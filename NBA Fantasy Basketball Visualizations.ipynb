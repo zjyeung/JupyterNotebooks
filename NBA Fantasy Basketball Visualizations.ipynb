{
 "cells": [
  {
   "cell_type": "markdown",
   "metadata": {},
   "source": [
    "# This is the heading\n",
    "\n",
    "## Another side heading\n",
    "\n",
    "### Season Splits\n",
    "This is the season splits until 2018. Shown in the following, these stats show the top 20 players' stats."
   ]
  },
  {
   "cell_type": "markdown",
   "metadata": {},
   "source": [
    "##### 1. Lebron James"
   ]
  },
  {
   "cell_type": "code",
   "execution_count": 1,
   "metadata": {},
   "outputs": [
    {
     "name": "stdout",
     "output_type": "stream",
     "text": [
      "Hello, World\n"
     ]
    }
   ],
   "source": [
    "print(\"Hello, World\")"
   ]
  },
  {
   "cell_type": "code",
   "execution_count": 2,
   "metadata": {},
   "outputs": [],
   "source": [
    "import time\n",
    "import numpy as np\n",
    "time.sleep(3)\n",
    "\n",
    "def square(n):\n",
    "    return n*n"
   ]
  },
  {
   "cell_type": "markdown",
   "metadata": {},
   "source": [
    "##### 2. Stephen Curry"
   ]
  },
  {
   "cell_type": "code",
   "execution_count": 4,
   "metadata": {},
   "outputs": [
    {
     "name": "stdout",
     "output_type": "stream",
     "text": [
      "Is the value of [1, 2, 3, 4, 5, 6, 7, 8, 9, 10]. So cool right! Insert first 5 here as a string: [49, 81, 25, 4, 16]\n",
      "and the rest here: [9, 64, 1, 64, 9] \n"
     ]
    }
   ],
   "source": [
    "def say_hello(recipient):\n",
    "    return \"Hello, {}!\".format(recipient)\n",
    "\n",
    "listOfSquares = []\n",
    "listOfRand = []\n",
    "for i in range(10):\n",
    "    listOfRand.append(np.random.randint(1, 10))\n",
    "    listOfSquares.append(square(listOfRand[i]))\n",
    "#print(listOfSquares)\n",
    "\n",
    "listOfRand = [1,2,3,4,5,6,7,8,9,10]\n",
    "print(\"Is the value of %s. So cool right! Insert first 5 here as a string: %s\\nand the rest here: %s \" % (listOfRand, listOfSquares[0:5], listOfSquares[5:10]))"
   ]
  },
  {
   "cell_type": "code",
   "execution_count": 5,
   "metadata": {},
   "outputs": [
    {
     "data": {
      "text/plain": [
       "'Hello, Bob!'"
      ]
     },
     "execution_count": 5,
     "metadata": {},
     "output_type": "execute_result"
    }
   ],
   "source": [
    "say_hello(\"Bob\")"
   ]
  },
  {
   "cell_type": "markdown",
   "metadata": {},
   "source": [
    "##### 3. Kyrie Irving\n"
   ]
  },
  {
   "cell_type": "code",
   "execution_count": 32,
   "metadata": {},
   "outputs": [],
   "source": []
  },
  {
   "cell_type": "markdown",
   "metadata": {},
   "source": [
    "### Career Stats"
   ]
  }
 ],
 "metadata": {
  "kernelspec": {
   "display_name": "Python 3",
   "language": "python",
   "name": "python3"
  },
  "language_info": {
   "codemirror_mode": {
    "name": "ipython",
    "version": 3
   },
   "file_extension": ".py",
   "mimetype": "text/x-python",
   "name": "python",
   "nbconvert_exporter": "python",
   "pygments_lexer": "ipython3",
   "version": "3.7.0"
  }
 },
 "nbformat": 4,
 "nbformat_minor": 2
}
